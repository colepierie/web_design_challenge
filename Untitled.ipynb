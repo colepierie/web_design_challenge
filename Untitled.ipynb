{
 "cells": [
  {
   "cell_type": "code",
   "execution_count": 8,
   "metadata": {},
   "outputs": [],
   "source": [
    "import pandas as pd\n"
   ]
  },
  {
   "cell_type": "code",
   "execution_count": 16,
   "metadata": {},
   "outputs": [],
   "source": [
    "columns = ['City_ID', 'City', 'Cloudiness','Country', 'Date', 'Humidity', 'Lat', 'Lng', 'Max Temp', 'Wind Speed']\n",
    "df = pd.read_csv('resources/cities.csv', names=columns)\n"
   ]
  },
  {
   "cell_type": "code",
   "execution_count": 18,
   "metadata": {},
   "outputs": [],
   "source": [
    "df.to_html(\"output.html\")"
   ]
  },
  {
   "cell_type": "code",
   "execution_count": 19,
   "metadata": {},
   "outputs": [],
   "source": [
    "html_file = df.to_html()"
   ]
  },
  {
   "cell_type": "code",
   "execution_count": 20,
   "metadata": {},
   "outputs": [
    {
     "name": "stdout",
     "output_type": "stream",
     "text": [
      "     City_ID          City  Cloudiness  Country        Date  Humidity     Lat  \\\n",
      "0    City_ID          City  Cloudiness  Country        Date  Humidity     Lat   \n",
      "1          0  jacareacanga           0       BR  1528902000        62   -6.22   \n",
      "2          1    kaitangata         100       NZ  1528905304        94  -46.28   \n",
      "3          2      goulburn          20       AU  1528905078        91  -34.75   \n",
      "4          3          lata          76       IN  1528905305        89   30.78   \n",
      "..       ...           ...         ...      ...         ...       ...     ...   \n",
      "543      542        scalea          36       IT  1528905631       100   39.82   \n",
      "544      543    san andres          68       PH  1528905632       100   13.32   \n",
      "545      544        muisne          92       EC  1528905633        84    0.61   \n",
      "546      545           ati          20       TD  1528905633        25   13.21   \n",
      "547      546      san luis           0       AR  1528905472        53   -33.3   \n",
      "\n",
      "        Lng  Max Temp  Wind Speed  \n",
      "0       Lng  Max Temp  Wind Speed  \n",
      "1    -57.76      89.6        6.93  \n",
      "2    169.85     42.61        5.64  \n",
      "3    149.72     44.32       10.11  \n",
      "4     78.62     59.89        0.94  \n",
      "..      ...       ...         ...  \n",
      "543   15.79     70.06         5.3  \n",
      "544  122.68     83.47       22.64  \n",
      "545  -80.02      76.9        4.63  \n",
      "546   18.34    104.53        4.97  \n",
      "547  -66.34     42.43        2.62  \n",
      "\n",
      "[548 rows x 10 columns]\n"
     ]
    }
   ],
   "source": []
  },
  {
   "cell_type": "code",
   "execution_count": null,
   "metadata": {},
   "outputs": [],
   "source": []
  }
 ],
 "metadata": {
  "kernelspec": {
   "display_name": "Python 3",
   "language": "python",
   "name": "python3"
  },
  "language_info": {
   "codemirror_mode": {
    "name": "ipython",
    "version": 3
   },
   "file_extension": ".py",
   "mimetype": "text/x-python",
   "name": "python",
   "nbconvert_exporter": "python",
   "pygments_lexer": "ipython3",
   "version": "3.6.10"
  }
 },
 "nbformat": 4,
 "nbformat_minor": 4
}
